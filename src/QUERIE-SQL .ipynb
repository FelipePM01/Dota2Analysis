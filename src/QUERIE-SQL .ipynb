{
 "cells": [
  {
   "cell_type": "code",
   "execution_count": 16,
   "id": "4c4089f8",
   "metadata": {},
   "outputs": [],
   "source": [
    "%defaultDatasource jdbc:h2:mem:db"
   ]
  },
  {
   "cell_type": "code",
   "execution_count": 29,
   "id": "d47901bf",
   "metadata": {},
   "outputs": [],
   "source": [
    "DROP TABLE IF EXISTS JOGADOR;\n",
    "DROP TABLE IF EXISTS PARTIDA;\n",
    "DROP TABLE IF EXISTS PERFORMANCE;\n",
    "DROP TABLE IF EXISTS HEROI;\n",
    "DROP TABLE IF EXISTS HEROI_ROLE;"
   ]
  },
  {
   "cell_type": "code",
   "execution_count": 30,
   "id": "a5459fc6",
   "metadata": {},
   "outputs": [],
   "source": [
    "CREATE TABLE JOGADOR(\n",
    "    PLAYER_ID INTEGER,\n",
    "    MMR INTEGER,\n",
    "    RANK INTEGER,\n",
    "    PRIMARY KEY(PLAYER_ID)\n",
    ") AS SELECT\n",
    "    PLAYER_ID,\n",
    "    MMR,\n",
    "    RANK\n",
    "FROM CSVREAD('https://raw.githubusercontent.com/FelipePM01/Dota2Analysis/develop/data/processed/player_data.csv');"
   ]
  },
  {
   "cell_type": "code",
   "execution_count": 31,
   "id": "944af1dc",
   "metadata": {},
   "outputs": [],
   "source": [
    "CREATE TABLE PARTIDA(\n",
    "    MATCH_ID VARCHAR,\n",
    "    AVERAGE_MMR INTEGER,\n",
    "    PLAYER_1_ID INTEGER,\n",
    "    PLAYER_2_ID INTEGER,\n",
    "    PLAYER_3_ID INTEGER,\n",
    "    PLAYER_4_ID INTEGER,\n",
    "    PLAYER_5_ID INTEGER,\n",
    "    PLAYER_6_ID INTEGER,\n",
    "    PLAYER_7_ID INTEGER,\n",
    "    PLAYER_8_ID INTEGER,\n",
    "    PLAYER_9_ID INTEGER,\n",
    "    PLAYER_10_ID INTEGER,\n",
    "    RADIANT_WIN BOOLEAN,\n",
    "    FIRST_BLOOD_TIME INTEGER,\n",
    "    DURATION INTEGER,\n",
    "    PRIMARY KEY(MATCH_ID)\n",
    ") AS SELECT\n",
    "    MATCH_ID,\n",
    "    AVERAGE_MMR,\n",
    "    PLAYER_1_ID,\n",
    "    PLAYER_2_ID,\n",
    "    PLAYER_3_ID,\n",
    "    PLAYER_4_ID,\n",
    "    PLAYER_5_ID,\n",
    "    PLAYER_6_ID,\n",
    "    PLAYER_7_ID,\n",
    "    PLAYER_8_ID,\n",
    "    PLAYER_9_ID,\n",
    "    PLAYER_10_ID,\n",
    "    RADIANT_WIN,\n",
    "    FIRST_BLOOD_TIME,\n",
    "    DURATION\n",
    "FROM CSVREAD('https://raw.githubusercontent.com/FelipePM01/Dota2Analysis/develop/data/processed/match_data.csv');"
   ]
  },
  {
   "cell_type": "code",
   "execution_count": 33,
   "id": "872df9d0",
   "metadata": {},
   "outputs": [],
   "source": [
    "CREATE TABLE PERFORMANCE(\n",
    "    MATCH_ID VARCHAR,\n",
    "    PLAYER_ID INTEGER,\n",
    "    RADIANT_TEAM BOOLEAN,\n",
    "    LEVEL INTEGER,\n",
    "    HERO_ID INTEGER,\n",
    "    HERO_DAMAGE INTEGER,\n",
    "    HERO_HEALING INTEGER,\n",
    "    DAMAGE_TAKEN INTEGER,\n",
    "    KILLS INTEGER,\n",
    "    ASSISTS INTEGER,\n",
    "    DEATHS INTEGER,\n",
    "    KDA INTEGER,\n",
    "    GOLD_PER_MINUTE INTEGER,\n",
    "    GOLD_SPENT INTEGER,\n",
    "    EXPERIENCE_PER_MINUTE INTEGER,\n",
    "    LAST_HITS INTEGER,\n",
    "    ITEM_0 INTEGER,\n",
    "    ITEM_1 INTEGER,\n",
    "    ITEM_2 INTEGER,\n",
    "    ITEM_3 INTEGER,\n",
    "    ITEM_4 INTEGER,\n",
    "    ITEM_5 INTEGER,\n",
    "    WIN INTEGER,\n",
    "    PRIMARY KEY(MATCH_ID,PLAYER_ID)\n",
    ") AS SELECT\n",
    "    MATCH_ID,\n",
    "    PLAYER_ID,\n",
    "    RADIANT_TEAM,\n",
    "    LEVEL,\n",
    "    HERO_ID,\n",
    "    HERO_DAMAGE,\n",
    "    HERO_HEALING,\n",
    "    DAMAGE_TAKEN,\n",
    "    KILLS,\n",
    "    ASSISTS,\n",
    "    DEATHS,\n",
    "    KDA,\n",
    "    GOLD_PER_MINUTE,\n",
    "    GOLD_SPENT,\n",
    "    EXPERIENCE_PER_MINUTE,\n",
    "    LAST_HITS,\n",
    "    ITEM_0,\n",
    "    ITEM_1,\n",
    "    ITEM_2,\n",
    "    ITEM_3,\n",
    "    ITEM_4,\n",
    "    ITEM_5,\n",
    "    WIN\n",
    "FROM CSVREAD('https://raw.githubusercontent.com/FelipePM01/Dota2Analysis/src_update/src/data/processed/performance_data.csv');"
   ]
  },
  {
   "cell_type": "code",
   "execution_count": 34,
   "id": "2497febd",
   "metadata": {},
   "outputs": [],
   "source": [
    "CREATE TABLE HEROI(\n",
    "    ID INTEGER,\n",
    "    NOME VARCHAR,\n",
    "    ATRIBUTO_PRIMARIO VARCHAR,\n",
    "    TIPO_ATAQUE VARCHAR,\n",
    "    PRIMARY KEY(ID,NOME)\n",
    ") AS SELECT\n",
    "    ID,\n",
    "    NOME,\n",
    "    ATRIBUTO_PRIMARIO,\n",
    "    TIPO_ATAQUE\n",
    "FROM CSVREAD('https://raw.githubusercontent.com/FelipePM01/Dota2Analysis/develop/data/processed/hero_data.csv');"
   ]
  },
  {
   "cell_type": "code",
   "execution_count": 35,
   "id": "d9b5e24e",
   "metadata": {},
   "outputs": [],
   "source": [
    "CREATE TABLE HEROI_ROLE(\n",
    "    NOME VARCHAR,\n",
    "    FUNCAO VARCHAR,\n",
    "    PRIMARY KEY(NOME,FUNCAO)\n",
    ") AS SELECT\n",
    "    NOME,\n",
    "    FUNCAO\n",
    "FROM CSVREAD('https://raw.githubusercontent.com/FelipePM01/Dota2Analysis/develop/data/processed/hero_role_data.csv')"
   ]
  },
  {
   "cell_type": "code",
   "execution_count": 39,
   "id": "cb9ac62d",
   "metadata": {},
   "outputs": [],
   "source": [
    "CREATE VIEW HERO_WIN AS\n",
    "SELECT HERO_ID,WIN FROM PERFORMANCE\n"
   ]
  },
  {
   "cell_type": "code",
   "execution_count": 40,
   "id": "bac75294",
   "metadata": {},
   "outputs": [
    {
     "data": {
      "application/vnd.jupyter.widget-view+json": {
       "model_id": "d1bd05bb-4c74-41d2-b842-272004d45860",
       "version_major": 2,
       "version_minor": 0
      },
      "method": "display_data"
     },
     "metadata": {},
     "output_type": "display_data"
    }
   ],
   "source": []
  },
  {
   "cell_type": "code",
   "execution_count": 37,
   "id": "c2f07e71",
   "metadata": {},
   "outputs": [
    {
     "data": {
      "application/vnd.jupyter.widget-view+json": {
       "model_id": "1ed43131-8ab1-4bd3-9522-32db18351359",
       "version_major": 2,
       "version_minor": 0
      },
      "method": "display_data"
     },
     "metadata": {},
     "output_type": "display_data"
    }
   ],
   "source": [
    "SELECT * FROM HEROI"
   ]
  },
  {
   "cell_type": "code",
   "execution_count": null,
   "id": "1deca07a",
   "metadata": {},
   "outputs": [],
   "source": []
  }
 ],
 "metadata": {
  "kernelspec": {
   "display_name": "SQL",
   "language": "SQL",
   "name": "sql"
  },
  "language_info": {
   "codemirror_mode": "sql",
   "file_extension": ".sql",
   "mimetype": "",
   "name": "SQL",
   "nbconverter_exporter": "",
   "version": ""
  },
  "toc": {
   "base_numbering": 1,
   "nav_menu": {},
   "number_sections": false,
   "sideBar": false,
   "skip_h1_title": false,
   "title_cell": "Table of Contents",
   "title_sidebar": "Contents",
   "toc_cell": false,
   "toc_position": {},
   "toc_section_display": false,
   "toc_window_display": false
  }
 },
 "nbformat": 4,
 "nbformat_minor": 5
}
