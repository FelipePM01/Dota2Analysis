{
 "cells": [
  {
   "cell_type": "code",
   "execution_count": 1,
   "id": "4c4089f8",
   "metadata": {},
   "outputs": [],
   "source": [
    "%defaultDatasource jdbc:h2:mem:db"
   ]
  },
  {
   "cell_type": "code",
   "execution_count": 2,
   "id": "d47901bf",
   "metadata": {},
   "outputs": [],
   "source": [
    "DROP TABLE IF EXISTS HERO_WIN;\n",
    "DROP TABLE IF EXISTS JOGADOR;\n",
    "DROP TABLE IF EXISTS PARTIDA;\n",
    "DROP TABLE IF EXISTS PERFORMANCE;\n",
    "DROP TABLE IF EXISTS HEROI;\n",
    "DROP TABLE IF EXISTS HEROI_ROLE;"
   ]
  },
  {
   "cell_type": "markdown",
   "id": "b8a66175",
   "metadata": {},
   "source": [
    "## Criando a tabela de Jogadores"
   ]
  },
  {
   "cell_type": "code",
   "execution_count": 3,
   "id": "a5459fc6",
   "metadata": {},
   "outputs": [],
   "source": [
    "CREATE TABLE JOGADOR(\n",
    "    PLAYER_ID INTEGER,\n",
    "    MMR INTEGER,\n",
    "    RANK INTEGER,\n",
    "    WIN INTEGER,\n",
    "    LOSE INTEGER,\n",
    "    PRIMARY KEY(PLAYER_ID)\n",
    ") AS SELECT\n",
    "    PLAYER_ID,\n",
    "    MMR,\n",
    "    RANK,\n",
    "    WIN,\n",
    "    LOSE\n",
    "FROM CSVREAD('https://raw.githubusercontent.com/FelipePM01/Dota2Analysis/src_update/final/data/interim/player_data.csv');"
   ]
  },
  {
   "cell_type": "markdown",
   "id": "c0f09fa2",
   "metadata": {},
   "source": [
    "## Criando a tabela de Partidas"
   ]
  },
  {
   "cell_type": "code",
   "execution_count": 4,
   "id": "944af1dc",
   "metadata": {},
   "outputs": [],
   "source": [
    "CREATE TABLE PARTIDA(\n",
    "    MATCH_ID VARCHAR,\n",
    "    AVERAGE_MMR INTEGER,\n",
    "    PLAYER_1_ID INTEGER,\n",
    "    PLAYER_2_ID INTEGER,\n",
    "    PLAYER_3_ID INTEGER,\n",
    "    PLAYER_4_ID INTEGER,\n",
    "    PLAYER_5_ID INTEGER,\n",
    "    PLAYER_6_ID INTEGER,\n",
    "    PLAYER_7_ID INTEGER,\n",
    "    PLAYER_8_ID INTEGER,\n",
    "    PLAYER_9_ID INTEGER,\n",
    "    PLAYER_10_ID INTEGER,\n",
    "    RADIANT_WIN BOOLEAN,\n",
    "    FIRST_BLOOD_TIME INTEGER,\n",
    "    DURATION INTEGER,\n",
    "    PRIMARY KEY(MATCH_ID)\n",
    ") AS SELECT\n",
    "    MATCH_ID,\n",
    "    AVERAGE_MMR,\n",
    "    PLAYER_1_ID,\n",
    "    PLAYER_2_ID,\n",
    "    PLAYER_3_ID,\n",
    "    PLAYER_4_ID,\n",
    "    PLAYER_5_ID,\n",
    "    PLAYER_6_ID,\n",
    "    PLAYER_7_ID,\n",
    "    PLAYER_8_ID,\n",
    "    PLAYER_9_ID,\n",
    "    PLAYER_10_ID,\n",
    "    RADIANT_WIN,\n",
    "    FIRST_BLOOD_TIME,\n",
    "    DURATION\n",
    "FROM CSVREAD('https://raw.githubusercontent.com/FelipePM01/Dota2Analysis/src_update/final/data/processed/match_data.csv');"
   ]
  },
  {
   "cell_type": "code",
   "execution_count": 5,
   "id": "872df9d0",
   "metadata": {},
   "outputs": [],
   "source": [
    "CREATE TABLE PERFORMANCE(\n",
    "    MATCH_ID VARCHAR,\n",
    "    PLAYER_ID INTEGER,\n",
    "    RADIANT_TEAM BOOLEAN,\n",
    "    LEVEL INTEGER,\n",
    "    HERO_ID INTEGER,\n",
    "    HERO_DAMAGE INTEGER,\n",
    "    HERO_HEALING INTEGER,\n",
    "    DAMAGE_TAKEN INTEGER,\n",
    "    TOWER_DAMAGE INTEGER,\n",
    "    KILLS INTEGER,\n",
    "    ASSISTS INTEGER,\n",
    "    DEATHS INTEGER,\n",
    "    KDA INTEGER,\n",
    "    GOLD_PER_MINUTE INTEGER,\n",
    "    GOLD_SPENT INTEGER,\n",
    "    EXPERIENCE_PER_MINUTE INTEGER,\n",
    "    LAST_HITS INTEGER,\n",
    "    ITEM_0 INTEGER,\n",
    "    ITEM_1 INTEGER,\n",
    "    ITEM_2 INTEGER,\n",
    "    ITEM_3 INTEGER,\n",
    "    ITEM_4 INTEGER,\n",
    "    WIN INTEGER,\n",
    "    PRIMARY KEY(MATCH_ID,PLAYER_ID)\n",
    ") AS SELECT\n",
    "    MATCH_ID,\n",
    "    PLAYER_ID,\n",
    "    RADIANT_TEAM,\n",
    "    LEVEL,\n",
    "    HERO_ID,\n",
    "    HERO_DAMAGE,\n",
    "    HERO_HEALING,\n",
    "    DAMAGE_TAKEN,\n",
    "    TOWER_DAMAGE,\n",
    "    KILLS,\n",
    "    ASSISTS,\n",
    "    DEATHS,\n",
    "    KDA,\n",
    "    GOLD_PER_MINUTE,\n",
    "    GOLD_SPENT,\n",
    "    EXPERIENCE_PER_MINUTE,\n",
    "    LAST_HITS,\n",
    "    ITEM_0,\n",
    "    ITEM_1,\n",
    "    ITEM_2,\n",
    "    ITEM_3,\n",
    "    ITEM_4,\n",
    "    WIN\n",
    "FROM CSVREAD('https://raw.githubusercontent.com/FelipePM01/Dota2Analysis/src_update/final/data/processed/performance_data.csv');"
   ]
  },
  {
   "cell_type": "markdown",
   "id": "fa79b2bc",
   "metadata": {},
   "source": [
    "## Criando a tabela de herois"
   ]
  },
  {
   "cell_type": "code",
   "execution_count": 6,
   "id": "2497febd",
   "metadata": {},
   "outputs": [],
   "source": [
    "CREATE TABLE HEROI(\n",
    "    ID INTEGER,\n",
    "    NOME VARCHAR,\n",
    "    ATRIBUTO_PRIMARIO VARCHAR,\n",
    "    TIPO_ATAQUE VARCHAR,\n",
    "    PRIMARY KEY(ID,NOME)\n",
    ") AS SELECT\n",
    "    ID,\n",
    "    NOME,\n",
    "    ATRIBUTO_PRIMARIO,\n",
    "    TIPO_ATAQUE\n",
    "FROM CSVREAD('https://raw.githubusercontent.com/FelipePM01/Dota2Analysis/src_update/final/data/interim/hero_data.csv');"
   ]
  },
  {
   "cell_type": "code",
   "execution_count": 7,
   "id": "d9b5e24e",
   "metadata": {},
   "outputs": [],
   "source": [
    "CREATE TABLE HEROI_ROLE(\n",
    "    NOME VARCHAR,\n",
    "    FUNCAO VARCHAR,\n",
    "    PRIMARY KEY(NOME,FUNCAO)\n",
    ") AS SELECT\n",
    "    NOME,\n",
    "    FUNCAO\n",
    "FROM CSVREAD('https://raw.githubusercontent.com/FelipePM01/Dota2Analysis/src_update/final/data/processed/hero_role_data.csv')"
   ]
  },
  {
   "cell_type": "markdown",
   "id": "8f6ed3c9",
   "metadata": {},
   "source": [
    "## Calculando a taxa de vitoria de um heroi"
   ]
  },
  {
   "cell_type": "code",
   "execution_count": 8,
   "id": "cb9ac62d",
   "metadata": {},
   "outputs": [],
   "source": [
    "CREATE VIEW HERO_WIN AS\n",
    "SELECT HERO_ID,WIN FROM PERFORMANCE\n"
   ]
  },
  {
   "cell_type": "code",
   "execution_count": 9,
   "id": "bac75294",
   "metadata": {},
   "outputs": [],
   "source": [
    "DROP TABLE IF EXISTS HERO_WIN_LOSE;\n",
    "CREATE VIEW HERO_WIN_LOSE AS\n",
    "    SELECT HERO_ID,SUM(WIN) AS WINS, COUNT(*) AS MATCHES FROM HERO_WIN\n",
    "    GROUP BY (HERO_ID)"
   ]
  },
  {
   "cell_type": "code",
   "execution_count": 10,
   "id": "c2f07e71",
   "metadata": {},
   "outputs": [
    {
     "data": {
      "application/vnd.jupyter.widget-view+json": {
       "model_id": "4b6c5b0c-b380-4131-9c14-c64c5d5f7b58",
       "version_major": 2,
       "version_minor": 0
      },
      "method": "display_data"
     },
     "metadata": {},
     "output_type": "display_data"
    }
   ],
   "source": [
    "SELECT * FROM HERO_WIN_LOSE"
   ]
  },
  {
   "cell_type": "code",
   "execution_count": 11,
   "id": "1deca07a",
   "metadata": {},
   "outputs": [],
   "source": [
    "DROP TABLE IF EXISTS HERO_WINRATE;\n",
    "CREATE VIEW HERO_WINRATE AS\n",
    "    \n",
    "    SELECT HERO_ID,100*WINS/MATCHES AS WINRATE_PORCENTAGEM FROM HERO_WIN_LOSE;"
   ]
  },
  {
   "cell_type": "code",
   "execution_count": 12,
   "id": "f9d9c32d",
   "metadata": {},
   "outputs": [
    {
     "data": {
      "application/vnd.jupyter.widget-view+json": {
       "model_id": "ce22d9dc-d4c6-46c4-a516-75770c2d883c",
       "version_major": 2,
       "version_minor": 0
      },
      "method": "display_data"
     },
     "metadata": {},
     "output_type": "display_data"
    }
   ],
   "source": [
    "SELECT * FROM HERO_WINRATE"
   ]
  },
  {
   "cell_type": "code",
   "execution_count": 13,
   "id": "841fad87",
   "metadata": {},
   "outputs": [
    {
     "data": {
      "application/vnd.jupyter.widget-view+json": {
       "model_id": "b13a1b65-55e3-499d-9b3d-d2196875b0bb",
       "version_major": 2,
       "version_minor": 0
      },
      "method": "display_data"
     },
     "metadata": {},
     "output_type": "display_data"
    }
   ],
   "source": [
    "SELECT W.HERO_ID, H.NOME, H.ATRIBUTO_PRIMARIO, H.TIPO_ATAQUE, W.WINRATE_PORCENTAGEM\n",
    "    FROM HEROI H, HERO_WINRATE W\n",
    "        WHERE H.ID = W.HERO_ID"
   ]
  },
  {
   "cell_type": "markdown",
   "id": "3fd3ce8a",
   "metadata": {},
   "source": [
    "## Calculando a taxa de vitoria de um player"
   ]
  },
  {
   "cell_type": "code",
   "execution_count": 14,
   "id": "dad972c2",
   "metadata": {},
   "outputs": [],
   "source": [
    "DROP TABLE IF EXISTS PLAYER_WINRATE;\n",
    "CREATE VIEW PLAYER_WINRATE AS\n",
    "    SELECT PLAYER_ID, MMR,RANK,WIN,LOSE,(WIN+LOSE) AS TOTAL_MATCHES,100*WIN/(WIN+LOSE)AS WINRATE_PORCENTAGEM FROM JOGADOR"
   ]
  },
  {
   "cell_type": "code",
   "execution_count": 15,
   "id": "420c2707",
   "metadata": {},
   "outputs": [
    {
     "data": {
      "application/vnd.jupyter.widget-view+json": {
       "model_id": "7a851fa4-20eb-4867-a925-37fe277665cc",
       "version_major": 2,
       "version_minor": 0
      },
      "method": "display_data"
     },
     "metadata": {},
     "output_type": "display_data"
    }
   ],
   "source": [
    "SELECT * FROM PLAYER_WINRATE"
   ]
  },
  {
   "cell_type": "code",
   "execution_count": 16,
   "id": "8d6aa647",
   "metadata": {},
   "outputs": [],
   "source": [
    "CREATE TABLE GRAPH(\n",
    "    MATCH_ID VARCHAR,\n",
    "    PLAYER_1_ID INTEGER,\n",
    "    PLAYER_2_ID INTEGER,\n",
    ")AS SELECT \n",
    "    MATCH_ID,\n",
    "    PLAYER_1_ID,\n",
    "    PLAYER_2_ID\n",
    "FROM CSVREAD('https://raw.githubusercontent.com/FelipePM01/Dota2Analysis/src_update/src/data/processed/graph_data.csv')"
   ]
  },
  {
   "cell_type": "code",
   "execution_count": 17,
   "id": "737c6341",
   "metadata": {},
   "outputs": [],
   "source": [
    "DROP TABLE IF EXISTS NEW_GRAPH;\n",
    "CREATE VIEW NEW_GRAPH AS\n",
    "    SELECT PLAYER_1_ID, PLAYER_2_ID, COUNT(*)AS VEZES FROM GRAPH\n",
    "    GROUP BY(PLAYER_1_ID,PLAYER_2_ID)\n",
    "    ORDER BY(VEZES)"
   ]
  },
  {
   "cell_type": "code",
   "execution_count": 18,
   "id": "ece315e7",
   "metadata": {},
   "outputs": [
    {
     "data": {
      "application/vnd.jupyter.widget-view+json": {
       "model_id": "1d9475b6-6e39-487a-ae0d-8eb7144a8189",
       "version_major": 2,
       "version_minor": 0
      },
      "method": "display_data"
     },
     "metadata": {},
     "output_type": "display_data"
    }
   ],
   "source": [
    "SELECT * FROM NEW_GRAPH"
   ]
  },
  {
   "cell_type": "code",
   "execution_count": null,
   "id": "57cb8152",
   "metadata": {},
   "outputs": [],
   "source": []
  }
 ],
 "metadata": {
  "kernelspec": {
   "display_name": "SQL",
   "language": "SQL",
   "name": "sql"
  },
  "language_info": {
   "codemirror_mode": "sql",
   "file_extension": ".sql",
   "mimetype": "",
   "name": "SQL",
   "nbconverter_exporter": "",
   "version": ""
  },
  "toc": {
   "base_numbering": 1,
   "nav_menu": {},
   "number_sections": false,
   "sideBar": false,
   "skip_h1_title": false,
   "title_cell": "Table of Contents",
   "title_sidebar": "Contents",
   "toc_cell": false,
   "toc_position": {},
   "toc_section_display": false,
   "toc_window_display": false
  }
 },
 "nbformat": 4,
 "nbformat_minor": 5
}
